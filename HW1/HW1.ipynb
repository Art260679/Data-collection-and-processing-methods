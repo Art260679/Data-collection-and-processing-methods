{
 "cells": [
  {
   "cell_type": "markdown",
   "metadata": {},
   "source": [
    "## Урок 1. Основы клиент-серверного взаимодействия. Парсинг API"
   ]
  },
  {
   "cell_type": "markdown",
   "metadata": {},
   "source": [
    "- 1. Посмотреть документацию к API GitHub, разобраться как вывести список репозиториев для конкретного пользователя, сохранить JSON-вывод в файле *.json."
   ]
  },
  {
   "cell_type": "code",
   "execution_count": 24,
   "metadata": {},
   "outputs": [
    {
     "name": "stdout",
     "output_type": "stream",
     "text": [
      "Введите название репозитория: jh\n",
      "Список репозиториев jh: \n",
      "Hermes\n",
      "template_test\n"
     ]
    }
   ],
   "source": [
    "import requests\n",
    "import json\n",
    "\n",
    "name_repos = input('Введите название репозитория: ')\n",
    "\n",
    "\n",
    "url = 'https://api.github.com/users/'\n",
    "user = name_repos\n",
    "\n",
    "respons = requests.get(f'{url}{user}/repos')\n",
    "\n",
    "with open('data.json', 'w') as f:\n",
    "    json.dump(respons.json(), f)\n",
    "if respons.ok:   \n",
    "    print(f'Список репозиториев {user}: ')\n",
    "\n",
    "    for i in respons.json():\n",
    "        print(i['name'])\n",
    "    \n",
    "else:\n",
    "    print(f'Такого репозитория не существует')"
   ]
  },
  {
   "cell_type": "markdown",
   "metadata": {},
   "source": [
    "- 2. Изучить список открытых API. Найти среди них любое, требующее авторизацию (любого типа). Выполнить запросы к нему, пройдя авторизацию. Ответ сервера записать в файл."
   ]
  },
  {
   "cell_type": "code",
   "execution_count": 44,
   "metadata": {},
   "outputs": [],
   "source": [
    "url = 'https://cloud-api.yandex.net/v1/'\n",
    "token = 'AgAAAAACHlRLAAZW3i7CVNpxj0wQqrb1TR7gXrI'\n",
    "\n",
    "headers = {\n",
    "    'Content-Type': 'application/json', \\\n",
    "    'Authorization': token\n",
    "}\n",
    "\n",
    "disk_info = 'disk'\n",
    "folder_info = 'disk/resources'\n",
    "\n",
    "disk = requests.get(f'{url}{disk_info}')\n",
    "\n",
    "disk.json()\n",
    "\n",
    "\n",
    "disk = requests.get(f'{url}{disk_info}', headers = headers)\n",
    "disk.json()\n",
    "\n",
    "\n",
    "\n",
    "with open('disk.json', 'w') as f:\n",
    "    json.dump(disk.json(), f)\n"
   ]
  }
 ],
 "metadata": {
  "kernelspec": {
   "display_name": "Python 3",
   "language": "python",
   "name": "python3"
  },
  "language_info": {
   "codemirror_mode": {
    "name": "ipython",
    "version": 3
   },
   "file_extension": ".py",
   "mimetype": "text/x-python",
   "name": "python",
   "nbconvert_exporter": "python",
   "pygments_lexer": "ipython3",
   "version": "3.7.4"
  }
 },
 "nbformat": 4,
 "nbformat_minor": 4
}
