{
 "cells": [
  {
   "cell_type": "markdown",
   "metadata": {},
   "source": [
    "    1)Написать приложение, которое собирает основные новости с сайтов news.mail.ru, lenta.ru, yandex.news\n",
    "    Для парсинга использовать xpath. Структура данных должна содержать:\n",
    "* название источника,\n",
    "* наименование новости,\n",
    "* ссылку на новость,\n",
    "* дата публикации\n",
    "\n",
    "    2)Сложить все новости в БД\n"
   ]
  },
  {
   "cell_type": "code",
   "execution_count": 491,
   "metadata": {},
   "outputs": [],
   "source": [
    "from lxml import html\n",
    "from requests import get\n",
    "from pprint import pprint\n",
    "import re\n",
    "import datetime\n",
    "from pymongo import MongoClient"
   ]
  },
  {
   "cell_type": "code",
   "execution_count": 492,
   "metadata": {},
   "outputs": [],
   "source": [
    "client = MongoClient('127.0.0.1', 27017)\n",
    "db = client['news_database']         # создаем базу данных"
   ]
  },
  {
   "cell_type": "code",
   "execution_count": 493,
   "metadata": {},
   "outputs": [
    {
     "name": "stdout",
     "output_type": "stream",
     "text": [
      "['вчера']\n",
      "{'_id': ObjectId('5ec987e2e912c38a0ac91906'),\n",
      " 'date': '2020-05-23',\n",
      " 'link': 'https://yandex.ru/news/story/V_Moskve_proveli_bolee_50_tysyach_testov_na_antitela_k_koronavirusu--f63afce7c8f82b61f5883852301b897a?lr=132&lang=ru&stid=fOsYnhcEoGOWxNp65xXi&persistent_id=98404175&rubric=Moscow&from=index',\n",
      " 'source': 'RT на русском ',\n",
      " 'time': '22:28',\n",
      " 'title': 'В Москве провели более 50 тысяч тестов на антитела к коронавирусу'}\n",
      "{'_id': ObjectId('5ec987e2e912c38a0ac91908'),\n",
      " 'date': '2020-05-24',\n",
      " 'link': 'https://yandex.ru/news/story/Sinoptiki_priznali_majskie_kholoda_v_Moskve_anomalnymi--1c2616627e01230a98a18e7299db5c12?lr=132&lang=ru&stid=iUCf5CKboQ_g01trtACx&persistent_id=98428964&rubric=Moscow&from=index',\n",
      " 'resource': 'Lenta.ru вчера\\xa0в\\xa0',\n",
      " 'source': 'Lenta.ru ',\n",
      " 'time': '22:27',\n",
      " 'title': 'Синоптики признали майские холода в Москве аномальными'}\n",
      "{'_id': ObjectId('5ec987e2e912c38a0ac9190a'),\n",
      " 'date': '2020-05-23',\n",
      " 'link': 'https://yandex.ru/news/story/Otkrylas_onlajn-zapis_na_priem_v_centry_gosuslug_Moi_dokumenty--18f491353bb29a3636a0428ad4baab5d?lr=132&lang=ru&stid=P_sQnoRH4_0ijiWtDhQR&persistent_id=98418507&rubric=Moscow&from=index',\n",
      " 'source': 'Вечерняя Москва ',\n",
      " 'time': '20:59',\n",
      " 'title': 'Открылась онлайн-запись на прием в центры госуслуг «Мои документы»'}\n"
     ]
    }
   ],
   "source": [
    "yandex_news = 'https://yandex.ru'\n",
    "header= {'User-Agent':'Mozilla/5.0 (Windows NT 10.0; Win64; x64) AppleWebKit/537.36 (KHTML, like Gecko) Chrome/81.0.4044.138 Safari/537.36'}\n",
    "response = get(yandex_news + '/news', headers = header)\n",
    "\n",
    "dom = html.fromstring(response.text)\n",
    "\n",
    "blocks = dom.xpath(\"//div[@class='page-content__fixed page-content__fixed_middle']/div/table//td\")\n",
    "\n",
    "vchera1 = block.xpath(\".//div[@class='story__info']/div[@class='story__date']/text()\")[0]\n",
    "vchera = str(re.findall('вчера', vchera1))\n",
    "print(vchera)\n",
    "\n",
    "result = []\n",
    "\n",
    "for block in blocks:\n",
    "    data = {}\n",
    "    resource = block.xpath(\".//div[@class='story__info']/div[@class='story__date']/text()\")[0][0:-5]\n",
    "    title = block.xpath(\".//h2/a/text()\")[0]\n",
    "    link = block.xpath(\".//h2/a//@href\")[0]\n",
    "    time = block.xpath(\".//div[@class='story__info']/div[@class='story__date']/text()\")[0][-5:]\n",
    "    \n",
    "    data['resource'] = resource\n",
    "    data['title'] = title\n",
    "    data['link'] = yandex_news + link\n",
    "    data['time'] = time\n",
    "    data['date'] = str(datetime.date.today())\n",
    "    result.append(data)\n",
    "\n",
    "yandex_news = db.yandex_news  # создаем коллекцию\n",
    "\n",
    "for i in result:\n",
    "    yandex_news.update_one({'link':i['link']},{'$set':i},upsert=True)\n",
    "\n",
    "for i in yandex_news.find({}).limit(3):\n",
    "    pprint(i)"
   ]
  },
  {
   "cell_type": "code",
   "execution_count": 494,
   "metadata": {},
   "outputs": [
    {
     "name": "stdout",
     "output_type": "stream",
     "text": [
      "{'_id': ObjectId('5ecab724e912c38a0ac97f02'),\n",
      " 'date': '24 мая 2020',\n",
      " 'link': 'lenta.ru/news/2020/05/24/ne_dojdetes/',\n",
      " 'resource': 'lenta.ru',\n",
      " 'time': '20:56',\n",
      " 'title': 'В России ответили насообщения обусталости Путина отвойны вСирии'}\n",
      "{'_id': ObjectId('5ecab724e912c38a0ac97f04'),\n",
      " 'date': '24 мая 2020',\n",
      " 'link': 'lenta.ru/news/2020/05/24/death_football/',\n",
      " 'resource': 'lenta.ru',\n",
      " 'time': '20:59',\n",
      " 'title': 'Подсчитано количество смертей откоронавируса после посещения матча '\n",
      "          'ЛЧ'}\n",
      "{'_id': ObjectId('5ecab724e912c38a0ac97f06'),\n",
      " 'date': '24 мая 2020',\n",
      " 'link': 'lenta.ru/news/2020/05/24/vse_nepravda/',\n",
      " 'resource': 'lenta.ru',\n",
      " 'time': '20:39',\n",
      " 'title': 'Тарзан ответил накритику из-за жалоб нанехватку денег'}\n"
     ]
    }
   ],
   "source": [
    "lenta = 'https://lenta.ru/'\n",
    "\n",
    "header= {'User-Agent':'Mozilla/5.0 (Windows NT 10.0; Win64; x64) AppleWebKit/537.36 (KHTML, like Gecko) Chrome/81.0.4044.138 Safari/537.36'}\n",
    "response = get(lenta, headers = header)\n",
    "\n",
    "dom_lenta = html.fromstring(response.text)\n",
    "\n",
    "result_lenta = []\n",
    "\n",
    "title_lenta = dom_lenta.xpath(\".//time/ancestor::a/text()\")\n",
    "link_lenta = dom_lenta.xpath(\".//time/ancestor::a/@href\")\n",
    "time_lenta = dom_lenta.xpath(\".//time[@datetime]/text()\")\n",
    "date_lenta = dom_lenta.xpath(\".//time/@title\")\n",
    "lenta = 'lenta.ru'\n",
    " \n",
    "for i in range (len(title_lenta)):\n",
    "    lenta_data = {}    \n",
    "    lenta_data['resource'] = lenta\n",
    "    lenta_data['title'] = title_lenta[i].replace('\\xa0','')\n",
    "    lenta_data['link'] = lenta + link_lenta[i]\n",
    "    lenta_data['time'] = time_lenta[i]\n",
    "    lenta_data['date'] = date_lenta[i]\n",
    "    result_lenta.append(lenta_data)\n",
    "\n",
    "    \n",
    "lenta_news = db.lenta  # создаем коллекцию\n",
    "\n",
    "for i in result_lenta:\n",
    "    lenta_news.update_one({'link':i['link']},{'$set':i},upsert=True)\n",
    "\n",
    "for i in lenta_news.find({}).limit(3):\n",
    "    pprint(i)"
   ]
  },
  {
   "cell_type": "code",
   "execution_count": 495,
   "metadata": {},
   "outputs": [
    {
     "name": "stdout",
     "output_type": "stream",
     "text": [
      "{'_id': ObjectId('5ecaef9fe912c38a0ac99886'),\n",
      " 'date': '2020-05-24',\n",
      " 'link': 'https://news.mail.ru//politics/41909070/',\n",
      " 'resource': ['ТАСС'],\n",
      " 'time': '17:03',\n",
      " 'title': ['Нетаньяху заявил о готовности Израиля противостоять агрессии '\n",
      "           'Ирана']}\n",
      "{'_id': ObjectId('5ecaef9fe912c38a0ac99888'),\n",
      " 'date': '2020-05-24',\n",
      " 'link': 'https://news.mail.ru//politics/41908824/',\n",
      " 'resource': ['РИА Новости'],\n",
      " 'time': '16:38',\n",
      " 'title': ['Захарова объяснила проблему Договора об открытом небе для США']}\n",
      "{'_id': ObjectId('5ecaef9fe912c38a0ac9988a'),\n",
      " 'date': '2020-05-24',\n",
      " 'link': 'https://news.mail.ru//politics/41908165/',\n",
      " 'resource': ['Коммерсантъ'],\n",
      " 'time': '14:50',\n",
      " 'title': ['Япония планирует полностью отменить режим ЧС с 25 мая']}\n"
     ]
    }
   ],
   "source": [
    "mail = 'https://news.mail.ru/'\n",
    "\n",
    "header= {'User-Agent':'Mozilla/5.0 (Windows NT 10.0; Win64; x64) AppleWebKit/537.36 (KHTML, like Gecko) Chrome/81.0.4044.138 Safari/537.36'}\n",
    "response = get(mail, headers = header)\n",
    "\n",
    "dom_mail = html.fromstring(response.text)\n",
    "\n",
    "result_mail = []\n",
    "\n",
    "blocks_news_mail = dom_mail.xpath(\"//li/span/a/@href\") #links\n",
    "\n",
    "\n",
    "for i in blocks_news_mail:\n",
    "    response_bnm = get(mail + i, headers = header)\n",
    "    dom_mail_bnm = html.fromstring(response_bnm.text)\n",
    "    \n",
    "    mail_data = {}    \n",
    "    mail_data['resource'] = dom_mail_bnm.xpath(\"//a[contains(@class,'mbs')]/span[@class='link__text']/text()\")\n",
    "    mail_data['title'] = dom_mail_bnm.xpath(\"//h1/text()\")\n",
    "    mail_data['link'] = mail + i\n",
    "    mail_data['time'] = dom_mail_bnm.xpath(\"//span/@datetime\")[0][11:16]\n",
    "    mail_data['date'] = dom_mail_bnm.xpath(\"//span/@datetime\")[0][:10]\n",
    "    result_mail.append(mail_data)\n",
    "\n",
    "    \n",
    "mail_news = db.mail  # создаем коллекцию\n",
    "\n",
    "for i in result_mail:\n",
    "    mail_news.update_one({'link':i['link']},{'$set':i},upsert=True)\n",
    "\n",
    "for i in mail_news.find({}).limit(3):\n",
    "    pprint(i)"
   ]
  }
 ],
 "metadata": {
  "kernelspec": {
   "display_name": "Python 3",
   "language": "python",
   "name": "python3"
  },
  "language_info": {
   "codemirror_mode": {
    "name": "ipython",
    "version": 3
   },
   "file_extension": ".py",
   "mimetype": "text/x-python",
   "name": "python",
   "nbconvert_exporter": "python",
   "pygments_lexer": "ipython3",
   "version": "3.7.4"
  }
 },
 "nbformat": 4,
 "nbformat_minor": 4
}
